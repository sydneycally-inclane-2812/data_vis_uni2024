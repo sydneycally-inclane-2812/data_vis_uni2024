{
 "cells": [
  {
   "cell_type": "code",
   "execution_count": null,
   "metadata": {},
   "outputs": [],
   "source": [
    "import numpy as np\n",
    "import matplotlib.pyplot as plt\n",
    "import pandas as pd\n",
    "import seaborn as sns\n",
    "# import polars as pl"
   ]
  },
  {
   "cell_type": "code",
   "execution_count": 63,
   "metadata": {},
   "outputs": [],
   "source": [
    "# Import the data\n",
    "y2021 = pd.read_csv('data/diem_thi_thpt_2021.csv')\n",
    "y2022 = pd.read_csv('data/diem_thi_thpt_2022.csv')\n",
    "y2023 = pd.read_csv('data/diem_thi_thpt_2023.csv')\n",
    "y2024 = pd.read_csv('data/diem_thi_thpt_2024.csv')"
   ]
  },
  {
   "cell_type": "code",
   "execution_count": 64,
   "metadata": {},
   "outputs": [],
   "source": [
    "# Unifying the column names\n",
    "y2021.columns = ['id', 'math', 'literature', '2nd_lang', 'physics', 'chem', 'bio', 'his', 'geo', 'civic', 'location']\n",
    "\n",
    "y2022['location'] = y2022['sbd'].astype(str).apply(lambda x: x[:2] if len(x) == 8 else x[:1])\n",
    "y2022.columns = ['id', 'math', 'literature', '2nd_lang', 'physics', 'chem', 'bio', 'his', 'geo', 'civic', 'location']\n",
    "\n",
    "y2023['location'] = y2023['sbd'].astype(str).apply(lambda x: x[:2] if len(x) == 8 else x[:1])\n",
    "y2023.columns = ['id', 'math', 'literature', '2nd_lang', 'physics', 'chem', 'bio', 'his', 'geo', 'civic', '2nd_lang_code','location']\n",
    "\n",
    "y2024['location'] = y2024['sbd'].astype(str).apply(lambda x: x[:2] if len(x) == 8 else x[:1])\n",
    "y2024.columns = ['id', 'math', 'literature', '2nd_lang', 'physics', 'chem', 'bio', 'his', 'geo', 'civic', '2nd_lang_code','location']"
   ]
  },
  {
   "cell_type": "code",
   "execution_count": null,
   "metadata": {},
   "outputs": [],
   "source": []
  }
 ],
 "metadata": {
  "kernelspec": {
   "display_name": ".venv",
   "language": "python",
   "name": "python3"
  },
  "language_info": {
   "codemirror_mode": {
    "name": "ipython",
    "version": 3
   },
   "file_extension": ".py",
   "mimetype": "text/x-python",
   "name": "python",
   "nbconvert_exporter": "python",
   "pygments_lexer": "ipython3",
   "version": "3.13.0"
  }
 },
 "nbformat": 4,
 "nbformat_minor": 2
}
